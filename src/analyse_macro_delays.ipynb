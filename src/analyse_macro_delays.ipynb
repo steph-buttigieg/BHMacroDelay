{
 "cells": [
  {
   "cell_type": "markdown",
   "id": "63b3fb7a",
   "metadata": {},
   "source": [
    "# Plotting functions for macrophysical delays"
   ]
  },
  {
   "cell_type": "code",
   "execution_count": 23,
   "id": "59ed3334",
   "metadata": {},
   "outputs": [],
   "source": [
    "import numpy as np\n",
    "import matplotlib.pyplot as plt\n",
    "import h5py\n",
    "import os\n",
    "from astropy.cosmology import FlatLambdaCDM\n",
    "import astropy.units as u\n",
    "from scipy.stats import gaussian_kde\n",
    "from matplotlib.colors import LogNorm\n",
    "import illustris_python.groupcat as gc\n",
    "from astropy.cosmology import FlatLambdaCDM\n",
    "from scipy.integrate import solve_ivp\n",
    "import readtreeHDF5\n",
    "import astropy.constants as const\n",
    "import seaborn as sns\n",
    "import matplotlib.lines as mlines\n",
    "from matplotlib.ticker import FixedLocator, FuncFormatter\n",
    "import matplotlib.font_manager"
   ]
  },
  {
   "cell_type": "code",
   "execution_count": 24,
   "id": "a0bd7269",
   "metadata": {},
   "outputs": [],
   "source": [
    "fpaths = matplotlib.font_manager.findSystemFonts()\n",
    "plt.rc('font', family='Nimbus Roman', size = 9)\n",
    "plt.rcParams['text.usetex'] = True\n",
    "plt.rcParams['text.latex.preamble'] = r'\\usepackage{amsmath}' #for \\text command\n",
    "colour_map = sns.color_palette(\"husl\", 8)"
   ]
  },
  {
   "cell_type": "code",
   "execution_count": 25,
   "id": "e2ca8a5d",
   "metadata": {},
   "outputs": [],
   "source": [
    "LITTLE_H = 0.679\n",
    "VOLUME = (100/LITTLE_H)**3  # cMpc^3"
   ]
  },
  {
   "cell_type": "markdown",
   "id": "e953b39e",
   "metadata": {},
   "source": [
    "## Delays only (no accretion)"
   ]
  },
  {
   "cell_type": "code",
   "execution_count": 26,
   "id": "464da59c",
   "metadata": {},
   "outputs": [
    {
     "name": "stdout",
     "output_type": "stream",
     "text": [
      "The total number of major merger events is:  10709\n",
      "Number of major mergers with no delay:  499\n",
      "Number of mergers that do not merge by redshift 0:  3176\n"
     ]
    }
   ],
   "source": [
    "indices = []\n",
    "primary_mass = []\n",
    "secondary_mass = []\n",
    "time_delays = []\n",
    "galaxies_merged = []\n",
    "galaxy_separation = []\n",
    "redshifts_galaxies = []\n",
    "simulation_redshifts = []\n",
    "halo_mass_at_numerical_merger = []\n",
    "path = '../data/new_delay_data/'\n",
    "files = os.listdir(path)\n",
    "H0 = LITTLE_H * 100\n",
    "Om0 = 0.3065\n",
    "cosmo = FlatLambdaCDM(H0=H0, Om0=Om0)\n",
    "for file in files:\n",
    "    with open(path + file, 'r') as f:\n",
    "        for line in f:\n",
    "            entries = line.strip().split()\n",
    "            index_1 = int(entries[0])\n",
    "            index_2 = int(entries[1])\n",
    "            index = f'{index_1}_{index_2}'\n",
    "            if index not in indices:\n",
    "                indices.append(index)\n",
    "                m1 = float(entries[2])\n",
    "                m2 = float(entries[3])\n",
    "                if m1 < m2:\n",
    "                    primary_mass.append(m2)\n",
    "                    secondary_mass.append(m1)\n",
    "                else:\n",
    "                    primary_mass.append(m1)\n",
    "                    secondary_mass.append(m2)\n",
    "                redshift_merger = float(entries[4])\n",
    "                simulation_redshifts.append(redshift_merger)\n",
    "                redshift_galaxies = float(entries[5])\n",
    "                redshifts_galaxies.append(redshift_galaxies)\n",
    "                galaxies_merged.append(entries[6] == 'True')\n",
    "                galaxy_separation.append(float(entries[7])) # this is in kpc\n",
    "\n",
    "                # calculate the time delay from the redshifts\n",
    "                age_bh = cosmo.age(redshift_merger)\n",
    "                age_galaxy = cosmo.age(redshift_galaxies)\n",
    "                time_delay = (age_galaxy - age_bh).to(u.Gyr).value\n",
    "                time_delays.append(time_delay)\n",
    "\n",
    "print('The total number of major merger events is: ', len(indices))\n",
    "zero_indices = [i for i, delay in enumerate(time_delays) if delay == 0]\n",
    "print('Number of major mergers with no delay: ', len(zero_indices))\n",
    "not_merged_indices = [i for i, merged in enumerate(galaxies_merged) if not merged]    \n",
    "print('Number of mergers that do not merge by redshift 0: ', len(not_merged_indices))\n",
    "time_delays_without_non_mergers = np.delete(time_delays, not_merged_indices)"
   ]
  },
  {
   "cell_type": "markdown",
   "id": "b1d97c33",
   "metadata": {},
   "source": [
    "### Distribution of time delays"
   ]
  },
  {
   "cell_type": "code",
   "execution_count": 27,
   "id": "9ecb4704",
   "metadata": {},
   "outputs": [],
   "source": [
    "def generate_time_delay(delay_until_0, delay_distribution):\n",
    "    \"\"\"\n",
    "    Generate a time delay from the distribution of time delays, given a minimum time delay.\n",
    "    Used to predict the full time delay for mergers that don't merge by redshift 0.\n",
    "    \"\"\"\n",
    "    number_of_valid_samples = 0\n",
    "    counter = 0\n",
    "    while number_of_valid_samples < 1:\n",
    "        if delay_distribution(delay_until_0) < 1e-5: # if the probability of the delay is very low, assign this delay without any modification\n",
    "            return delay_until_0, 1\n",
    "        delay_samples = delay_distribution.resample(10000)[0]\n",
    "        valid_samples = delay_samples[delay_samples > delay_until_0]\n",
    "        number_of_valid_samples = len(valid_samples)\n",
    "        if len(valid_samples) > 0:\n",
    "            delay = np.random.choice(valid_samples)\n",
    "            # print(delay)\n",
    "            probability = delay_distribution(delay)[0]\n",
    "            if probability < 1e-10:\n",
    "                print(delay_distribution(delay))\n",
    "            return delay, probability\n",
    "        counter += 1"
   ]
  },
  {
   "cell_type": "code",
   "execution_count": 28,
   "id": "04598873",
   "metadata": {},
   "outputs": [
    {
     "name": "stdout",
     "output_type": "stream",
     "text": [
      "The maximum time delay is:  12.579636218916635\n"
     ]
    }
   ],
   "source": [
    "# generate artificial time delays\n",
    "\n",
    "not_merged_indices = [i for i, merged in enumerate(galaxies_merged) if not merged]\n",
    "time_delays_without_non_mergers = np.delete(time_delays, not_merged_indices)\n",
    "\n",
    "delay_distribution = gaussian_kde(time_delays_without_non_mergers)\n",
    "\n",
    "time_delays_artificial = []\n",
    "\n",
    "probabilities = []\n",
    "probabilities2 = []\n",
    "\n",
    "for counter, i in enumerate(not_merged_indices):\n",
    "    redshift_BH = simulation_redshifts[i]\n",
    "    # Find the time between redshift_BH and redshift 0\n",
    "    delay_until_0 = time_delays[i]\n",
    "    delay, probability = generate_time_delay(delay_until_0, delay_distribution)\n",
    "    time_delays_artificial.append(delay)\n",
    "    probabilities.append(delay_distribution(delay)[0])\n",
    "    probabilities2.append(probability)\n",
    "\n",
    "print('The maximum time delay is: ', max(time_delays_artificial))\n",
    "\n",
    "all_time_delays_artificial = np.append(time_delays_without_non_mergers, time_delays_artificial)"
   ]
  },
  {
   "cell_type": "code",
   "execution_count": 29,
   "id": "9659753e",
   "metadata": {},
   "outputs": [
    {
     "name": "stderr",
     "output_type": "stream",
     "text": [
      "/tmp/ipykernel_1022771/2294971715.py:32: UserWarning: set_ticklabels() should only be used with a fixed number of ticks, i.e. after set_ticks() or using a FixedLocator.\n",
      "  plt.gca().set_xticklabels(labels)\n"
     ]
    },
    {
     "data": {
      "image/png": "[encoded data removed]",
      "text/plain": [
       "<Figure size 333.333x300 with 1 Axes>"
      ]
     },
     "metadata": {},
     "output_type": "display_data"
    }
   ],
   "source": [
    "linear_bins = np.linspace(0, 1, 30)  # Linear bins from 0 to 1 Gyr\n",
    "log_bins_positive = np.logspace(0, np.log10(max(time_delays)), 76)  # Logarithmic bins for values > 1 Gyr\n",
    "\n",
    "# Combine the bins\n",
    "bins = np.concatenate((linear_bins[:-1], log_bins_positive))\n",
    "\n",
    "# plot the distribution of time delays\n",
    "plt.figure(figsize=(10/3, 3))\n",
    "plt.hist(time_delays, bins = bins, label=r'$z=0$ cutoff', histtype='step', density=False, color=colour_map[0])\n",
    "plt.hist(time_delays_without_non_mergers, bins = bins, label='Only merge by $z=0$', histtype='step', density=False, color=colour_map[4])\n",
    "plt.hist(all_time_delays_artificial, bins = bins, label='Artificial delays', histtype='step', density = False, color=colour_map[6])\n",
    "plt.xlabel('Time delay [Gyr]')\n",
    "plt.ylabel('Count')\n",
    "plt.xscale('symlog',linthresh = 1)\n",
    "plt.axvline(1.3, color = colour_map[6], linestyle = '--')\n",
    "\n",
    "# Set minor ticks for linear and log regions\n",
    "minor_ticks = [0.2, 0.4, 0.6, 0.8, 1.0, 2, 3, 4, 5, 6, 7, 8, 9, 10]\n",
    "plt.gca().xaxis.set_minor_locator(FixedLocator(minor_ticks))\n",
    "\n",
    "def custom_minor_formatter(x, pos):\n",
    "    if x in [0.2, 0.4, 0.6, 0.8]:  # Choose which minor ticks to label\n",
    "        return f'{x}'\n",
    "    else:\n",
    "        return ''\n",
    "\n",
    "plt.gca().xaxis.set_minor_formatter(FuncFormatter(custom_minor_formatter))\n",
    "\n",
    "labels = [item.get_text() for item in plt.gca().get_xticklabels()]\n",
    "labels[1] = '1'\n",
    "\n",
    "plt.gca().set_xticklabels(labels)\n",
    "plt.ylim(0, 700)\n",
    "plt.legend()\n",
    "plt.tight_layout()\n",
    "plt.savefig('../figures/time_delays.png', dpi=600)"
   ]
  },
  {
   "cell_type": "markdown",
   "id": "6dfaccbe",
   "metadata": {},
   "source": [
    "### Cumulative number of mergers as a function of redshift"
   ]
  },
  {
   "cell_type": "code",
   "execution_count": 30,
   "id": "afa90b97",
   "metadata": {},
   "outputs": [
    {
     "data": {
      "image/png": "[encoded data removed]",
      "text/plain": [
       "<Figure size 333.333x300 with 1 Axes>"
      ]
     },
     "metadata": {},
     "output_type": "display_data"
    }
   ],
   "source": [
    "no_delays_6 = []\n",
    "no_delays_7 = []\n",
    "no_delays_8 = []\n",
    "no_delays_9 = []\n",
    "\n",
    "delays_6 = []\n",
    "delays_7 = []\n",
    "delays_8 = []\n",
    "delays_9 = []\n",
    "\n",
    "for i, redshift in enumerate(simulation_redshifts):\n",
    "    m1 = primary_mass[i]\n",
    "    if m1 >= 1e9:\n",
    "        no_delays_9.append(redshift)\n",
    "    elif m1 >= 1e8:\n",
    "        no_delays_8.append(redshift)\n",
    "    elif m1 >= 1e7:\n",
    "        no_delays_7.append(redshift)\n",
    "    elif m1 >= 1e6:\n",
    "        no_delays_6.append(redshift)\n",
    "\n",
    "for i, redshift in enumerate(redshifts_galaxies):\n",
    "    m1 = primary_mass[i]\n",
    "    if galaxies_merged[i]:\n",
    "        if m1 >= 1e9:\n",
    "            delays_9.append(redshift)\n",
    "        elif m1 >= 1e8:\n",
    "            delays_8.append(redshift)\n",
    "        elif m1 >= 1e7:\n",
    "            delays_7.append(redshift)\n",
    "        elif m1 >= 1e6:\n",
    "            delays_6.append(redshift)\n",
    "\n",
    "# create redshift bins and then calculate the cumulative number of mergers in each bin (i.e. mergers with z > z_bin)\n",
    "z_bins = np.linspace(0, 8, 50)\n",
    "cumulative_no_delays_6 = []\n",
    "cumulative_no_delays_7 = []\n",
    "cumulative_no_delays_8 = []\n",
    "cumulative_no_delays_9 = []\n",
    "\n",
    "cumulative_delays_6 = []\n",
    "cumulative_delays_7 = []\n",
    "cumulative_delays_8 = []\n",
    "cumulative_delays_9 = []\n",
    "\n",
    "for z in z_bins:\n",
    "    cumulative_no_delays_6.append(len([redshift for redshift in no_delays_6 if redshift > z]))\n",
    "    cumulative_no_delays_7.append(len([redshift for redshift in no_delays_7 if redshift > z]))\n",
    "    cumulative_no_delays_8.append(len([redshift for redshift in no_delays_8 if redshift > z]))\n",
    "    cumulative_no_delays_9.append(len([redshift for redshift in no_delays_9 if redshift > z]))\n",
    "\n",
    "    cumulative_delays_6.append(len([redshift for redshift in delays_6 if redshift > z]))\n",
    "    cumulative_delays_7.append(len([redshift for redshift in delays_7 if redshift > z]))\n",
    "    cumulative_delays_8.append(len([redshift for redshift in delays_8 if redshift > z]))\n",
    "    cumulative_delays_9.append(len([redshift for redshift in delays_9 if redshift > z]))\n",
    "                               \n",
    "cumulative_no_delays_6 = np.array(cumulative_no_delays_6)\n",
    "cumulative_no_delays_7 = np.array(cumulative_no_delays_7)\n",
    "cumulative_no_delays_8 = np.array(cumulative_no_delays_8)\n",
    "cumulative_no_delays_9 = np.array(cumulative_no_delays_9)\n",
    "\n",
    "cumulative_delays_6 = np.array(cumulative_delays_6)\n",
    "cumulative_delays_7 = np.array(cumulative_delays_7)\n",
    "cumulative_delays_8 = np.array(cumulative_delays_8)\n",
    "cumulative_delays_9 = np.array(cumulative_delays_9)\n",
    "\n",
    "plt.figure(figsize=(10/3, 3))\n",
    "plt.plot(z_bins, cumulative_no_delays_6, color=colour_map[0], label=r'$10^6 M_\\odot < M_1 < 10^7 M_\\odot$', drawstyle = 'steps-mid')\n",
    "plt.plot(z_bins,cumulative_delays_6, color=colour_map[0], linestyle=':', drawstyle = 'steps-mid')\n",
    "plt.plot(z_bins, cumulative_no_delays_7, color=colour_map[2], label=r'$10^7 M_\\odot < M_1 < 10^8 M_\\odot$', drawstyle = 'steps-mid')\n",
    "plt.plot(z_bins, cumulative_delays_7, color=colour_map[2], linestyle=':', drawstyle = 'steps-mid')\n",
    "plt.plot(z_bins, cumulative_no_delays_8, color=colour_map[4], label=r'$10^8 M_\\odot < M_1 < 10^9 M_\\odot$', drawstyle = 'steps-mid')\n",
    "plt.plot(z_bins, cumulative_delays_8, color=colour_map[4], linestyle=':', drawstyle = 'steps-mid')\n",
    "plt.plot(z_bins, cumulative_no_delays_9, color=colour_map[6], label=r'$M_1 > 10^9 M_\\odot$', drawstyle = 'steps-mid')\n",
    "plt.plot(z_bins, cumulative_delays_9, color=colour_map[6], linestyle=':', drawstyle = 'steps-mid')\n",
    "from matplotlib.lines import Line2D\n",
    "\n",
    "# Legend handles for mass bins (colours)\n",
    "mass_handles = [\n",
    "    Line2D([0], [0], color=colour_map[0], lw=2, label=r'$10^6 \\, \\text{M}_\\odot < M_1 < 10^7 \\, \\text{M}_\\odot$'),\n",
    "    Line2D([0], [0], color=colour_map[2], lw=2, label=r'$10^7 \\, \\text{M}_\\odot < M_1 < 10^8 \\, \\text{M}_\\odot$'),\n",
    "    Line2D([0], [0], color=colour_map[4], lw=2, label=r'$10^8  \\, \\text{M}_\\odot < M_1 < 10^9\\, \\text{M}_\\odot$'),\n",
    "    Line2D([0], [0], color=colour_map[6], lw=2, label=r'$M_1 > 10^9 \\, \\text{M}_\\odot$'),\n",
    "]\n",
    "\n",
    "# Legend handles for models (linestyles)\n",
    "model_handles = [\n",
    "    Line2D([0], [0], color='dimgrey', linestyle='-', lw=1.5, label='Unmodified \\n mergers'),\n",
    "    Line2D([0], [0], color='dimgrey', linestyle=':', lw=1.5, label='Mergers with \\n delay'),\n",
    "]\n",
    "\n",
    "first_legend = plt.legend(\n",
    "    handles=mass_handles,\n",
    "    fontsize=8,\n",
    "    title_fontsize=9,\n",
    "    loc='upper right',\n",
    "    bbox_to_anchor=(1.0, 1.0)\n",
    ")\n",
    "plt.gca().add_artist(first_legend)\n",
    "\n",
    "# Second legend: Models (directly under the first)\n",
    "plt.legend(\n",
    "    handles=model_handles,\n",
    "    fontsize=8,\n",
    "    title_fontsize=9,\n",
    "    loc='upper right',\n",
    "    bbox_to_anchor=(1.0, 0.65),\n",
    ")\n",
    "plt.yscale('log')\n",
    "plt.xlabel(r'$z$')\n",
    "plt.ylabel(r'$N_\\text{mergers}(>z)$')\n",
    "plt.tight_layout()\n",
    "plt.savefig('../figures/cumulative_mergers_redshift.png', dpi=600)"
   ]
  },
  {
   "cell_type": "markdown",
   "id": "1aadbd45",
   "metadata": {},
   "source": [
    "### BH vs. Host Subhalo Separations"
   ]
  },
  {
   "cell_type": "code",
   "execution_count": 15,
   "id": "35c57c7c",
   "metadata": {},
   "outputs": [],
   "source": [
    "# first need to load the BH separations from the extended merger files\n",
    "extended_files_path = '/cosma7/data/dp012/dc-butt3/new_merger_events_extended/'\n",
    "\n",
    "bh_separations = []\n",
    "\n",
    "for index in indices:\n",
    "    file_path = os.path.join(extended_files_path, f'{index}.hdf5')\n",
    "    if os.path.exists(file_path):\n",
    "        with h5py.File(file_path, 'r') as f:\n",
    "            header = dict(f['Header'].attrs)\n",
    "            bh_separation = header['binary_sep']\n",
    "            bh_separations.append(bh_separation)\n",
    "    else:\n",
    "        print(f\"File {file_path} does not exist.\")"
   ]
  },
  {
   "cell_type": "code",
   "execution_count": 22,
   "id": "31913af1",
   "metadata": {},
   "outputs": [
    {
     "name": "stdout",
     "output_type": "stream",
     "text": [
      "Median separation of galaxies:  68.05263411327265\n",
      "Median separation of BHs:  1.6555622581719072\n",
      "Median separation of galaxies (merged):  44.07351883470509\n"
     ]
    },
    {
     "data": {
      "image/png": "[encoded data removed]",
      "text/plain": [
       "<Figure size 333.333x300 with 1 Axes>"
      ]
     },
     "metadata": {},
     "output_type": "display_data"
    }
   ],
   "source": [
    "galaxy_separation = np.array(galaxy_separation)\n",
    "min_sep = np.min(galaxy_separation[galaxy_separation > 0])  # Minimum separation (exclude non-positive values)\n",
    "max_sep = np.max(galaxy_separation)\n",
    "bins = np.logspace(np.log10(min_sep), np.log10(max_sep), 50)  # 50 log-spaced bins\n",
    "\n",
    "# Remove the not merged indices from galaxy_separation\n",
    "galaxy_separation_merged = np.delete(galaxy_separation, not_merged_indices)\n",
    "\n",
    "new_bh_separations = np.array(bh_separations)/1000 # converting to kpc\n",
    "min_bh_sep = np.min(new_bh_separations[new_bh_separations > 0])  # Minimum separation (exclude non-positive values)\n",
    "max_bh_sep = np.max(new_bh_separations)\n",
    "bins_bh = np.logspace(np.log10(min_bh_sep), np.log10(max_bh_sep), 50)  # 50 log-spaced bins\n",
    "\n",
    "# calculate the mean separation in both cases\n",
    "mean_separation_galaxy = np.median(galaxy_separation)\n",
    "mean_separation_bh = np.median(new_bh_separations)\n",
    "mean_separation_galaxy_merged = np.median(galaxy_separation_merged)\n",
    "\n",
    "print('Median separation of galaxies: ', mean_separation_galaxy)\n",
    "print('Median separation of BHs: ', mean_separation_bh)\n",
    "print('Median separation of galaxies (merged): ', mean_separation_galaxy_merged)\n",
    "\n",
    "plt.figure(figsize=(10/3, 3))\n",
    "plt.hist(galaxy_separation, bins = bins, histtype='step', label='Galaxy separation', color=colour_map[0])\n",
    "plt.hist(new_bh_separations, bins=bins_bh, histtype='step', label='BH separation', color=colour_map[4])\n",
    "plt.hist(galaxy_separation_merged, bins=bins, histtype='step', color=colour_map[0], linestyle=':')\n",
    "plt.axvline(mean_separation_galaxy, color=colour_map[0], linestyle='--')\n",
    "plt.axvline(mean_separation_bh, color=colour_map[4], linestyle='--')\n",
    "plt.axvline(mean_separation_galaxy_merged, color=colour_map[0], linestyle=':')\n",
    "plt.xlabel('Separation [kpc]')\n",
    "plt.ylabel('Count')\n",
    "plt.yscale('log')\n",
    "plt.xscale('log')\n",
    "plt.legend()\n",
    "plt.tight_layout()\n",
    "plt.savefig('../figures/host_separation.png', dpi=600)"
   ]
  }
 ],
 "metadata": {
  "kernelspec": {
   "display_name": "astroenv36",
   "language": "python",
   "name": "python3"
  },
  "language_info": {
   "codemirror_mode": {
    "name": "ipython",
    "version": 3
   },
   "file_extension": ".py",
   "mimetype": "text/x-python",
   "name": "python",
   "nbconvert_exporter": "python",
   "pygments_lexer": "ipython3",
   "version": "3.11.9"
  }
 },
 "nbformat": 4,
 "nbformat_minor": 5
}
