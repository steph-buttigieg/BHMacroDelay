{
 "cells": [
  {
   "cell_type": "code",
   "execution_count": 3,
   "metadata": {},
   "outputs": [],
   "source": [
    "import illustris_python.groupcat as gc\n",
    "import matplotlib.pyplot as plt\n",
    "import illustris_python.snapshot as snap\n",
    "import h5py\n",
    "import numpy as np\n",
    "import utils as util\n",
    "import readtreeHDF5"
   ]
  },
  {
   "cell_type": "code",
   "execution_count": 11,
   "metadata": {},
   "outputs": [
    {
     "name": "stdout",
     "output_type": "stream",
     "text": [
      "411840\n"
     ]
    }
   ],
   "source": [
    "subfindID = util.get_subhalo_ID(0, 130)\n",
    "print(subfindID)"
   ]
  },
  {
   "cell_type": "code",
   "execution_count": null,
   "metadata": {},
   "outputs": [],
   "source": [
    "combined_dicts = {1: {}, 2: {}}\n",
    "\n",
    "# Initialize subhalo data, change fields as needed\n",
    "subhalo_quants = [\"SnapNum\", \"SubhaloMassInRad\", \"SubhaloGrNr\", \"SubhaloMassInHalfRadType\", \"SubhaloPos\", \"SubfindID\"]\n",
    "\n",
    "\n",
    "treedir = \"/cosma7/data/dp012/dc-butt3/MergerTrees/output/Galaxies/FABLE/Fid_test\" # update to subhalo merger tree directory\n",
    "tree = readtreeHDF5.TreeDB(treedir)\n",
    "\n",
    "snap_no = 130\n",
    "\n",
    "# TODO: why is this not matching the group number.\n",
    "# TODO: use sublink methods from illustris_python to make this cleaner.\n",
    "\n",
    "for branch_type, branch in enumerate([tree.get_main_branch(snap_no, subfindID, keysel=subhalo_quants),\n",
    "                                              tree.get_future_branch(snap_no, subfindID, keysel=subhalo_quants)]):\n",
    "            snaps = branch.SnapNum\n",
    "            data = {\n",
    "                \"pos\": dict(zip(snaps, branch.SubhaloPos)),\n",
    "                \"id\": dict(zip(snaps, branch.SubfindID)),\n",
    "                \"group\": dict(zip(snaps, branch.SubhaloGrNr)),\n",
    "                \"mass\": dict(zip(snaps, branch.SubhaloMassInRad)),\n",
    "                \"half_mass\": dict(zip(snaps, branch.SubhaloMassInHalfRadType)),\n",
    "            }\n",
    "            for key, value in data.items():\n",
    "                combined_dicts[1].setdefault(key, {}).update(value)\n"
   ]
  },
  {
   "cell_type": "code",
   "execution_count": 8,
   "metadata": {},
   "outputs": [
    {
     "data": {
      "text/plain": [
       "{np.int16(130): np.int32(104787),\n",
       " np.int16(129): np.int32(108249),\n",
       " np.int16(128): np.int32(109598),\n",
       " np.int16(127): np.int32(111248),\n",
       " np.int16(126): np.int32(111518),\n",
       " np.int16(125): np.int32(105063),\n",
       " np.int16(124): np.int32(110625),\n",
       " np.int16(123): np.int32(112377),\n",
       " np.int16(122): np.int32(110966),\n",
       " np.int16(121): np.int32(110650),\n",
       " np.int16(120): np.int32(112439),\n",
       " np.int16(119): np.int32(114790),\n",
       " np.int16(118): np.int32(115127),\n",
       " np.int16(117): np.int32(116077),\n",
       " np.int16(116): np.int32(115660),\n",
       " np.int16(115): np.int32(117305),\n",
       " np.int16(114): np.int32(117163),\n",
       " np.int16(113): np.int32(116731),\n",
       " np.int16(112): np.int32(121018),\n",
       " np.int16(111): np.int32(120547),\n",
       " np.int16(110): np.int32(124095),\n",
       " np.int16(109): np.int32(125695),\n",
       " np.int16(108): np.int32(126381),\n",
       " np.int16(107): np.int32(128965),\n",
       " np.int16(106): np.int32(125312),\n",
       " np.int16(105): np.int32(127356),\n",
       " np.int16(104): np.int32(132999),\n",
       " np.int16(103): np.int32(130589),\n",
       " np.int16(102): np.int32(132491),\n",
       " np.int16(101): np.int32(136098),\n",
       " np.int16(100): np.int32(135377),\n",
       " np.int16(99): np.int32(137280),\n",
       " np.int16(98): np.int32(140652),\n",
       " np.int16(97): np.int32(140481),\n",
       " np.int16(96): np.int32(141607),\n",
       " np.int16(95): np.int32(140261),\n",
       " np.int16(94): np.int32(142672),\n",
       " np.int16(93): np.int32(152035),\n",
       " np.int16(92): np.int32(153021),\n",
       " np.int16(91): np.int32(157476),\n",
       " np.int16(90): np.int32(157218),\n",
       " np.int16(89): np.int32(160653),\n",
       " np.int16(88): np.int32(158002),\n",
       " np.int16(87): np.int32(159597),\n",
       " np.int16(86): np.int32(163346),\n",
       " np.int16(85): np.int32(160548),\n",
       " np.int16(84): np.int32(166085),\n",
       " np.int16(83): np.int32(168464),\n",
       " np.int16(82): np.int32(173647),\n",
       " np.int16(81): np.int32(174631),\n",
       " np.int16(80): np.int32(174645),\n",
       " np.int16(79): np.int32(182899),\n",
       " np.int16(78): np.int32(176103),\n",
       " np.int16(77): np.int32(177949),\n",
       " np.int16(76): np.int32(179981),\n",
       " np.int16(75): np.int32(186091),\n",
       " np.int16(74): np.int32(189743),\n",
       " np.int16(73): np.int32(196952),\n",
       " np.int16(72): np.int32(213297),\n",
       " np.int16(71): np.int32(209059),\n",
       " np.int16(70): np.int32(214275),\n",
       " np.int16(69): np.int32(213645),\n",
       " np.int16(68): np.int32(223755),\n",
       " np.int16(67): np.int32(227597),\n",
       " np.int16(66): np.int32(229674),\n",
       " np.int16(65): np.int32(252977),\n",
       " np.int16(64): np.int32(244065),\n",
       " np.int16(63): np.int32(263148),\n",
       " np.int16(62): np.int32(268199),\n",
       " np.int16(61): np.int32(269244),\n",
       " np.int16(60): np.int32(291700),\n",
       " np.int16(59): np.int32(344211),\n",
       " np.int16(58): np.int32(312753),\n",
       " np.int16(57): np.int32(335205),\n",
       " np.int16(56): np.int32(315287),\n",
       " np.int16(55): np.int32(343059),\n",
       " np.int16(54): np.int32(331866),\n",
       " np.int16(53): np.int32(352560),\n",
       " np.int16(135): np.int32(101056),\n",
       " np.int16(134): np.int32(103746),\n",
       " np.int16(133): np.int32(102518),\n",
       " np.int16(132): np.int32(105730),\n",
       " np.int16(131): np.int32(105018)}"
      ]
     },
     "execution_count": 8,
     "metadata": {},
     "output_type": "execute_result"
    }
   ],
   "source": [
    "combined_dicts[1]['group']"
   ]
  },
  {
   "cell_type": "code",
   "execution_count": 10,
   "metadata": {},
   "outputs": [
    {
     "name": "stdout",
     "output_type": "stream",
     "text": [
      "0\n",
      "1938141\n"
     ]
    }
   ],
   "source": [
    "basepath = \"/cosma7/data/dp012/dc-bigw2/FABLE-NewICs/FABLE-newICs-100\"\n",
    "subhalo_data = gc.loadSubhalos(basepath, 130, fields=['SubhaloGrNr'])\n",
    "print(subhalo_data[0])\n",
    "print(len(subhalo_data))"
   ]
  }
 ],
 "metadata": {
  "kernelspec": {
   "display_name": "astroenv",
   "language": "python",
   "name": "python3"
  },
  "language_info": {
   "codemirror_mode": {
    "name": "ipython",
    "version": 3
   },
   "file_extension": ".py",
   "mimetype": "text/x-python",
   "name": "python",
   "nbconvert_exporter": "python",
   "pygments_lexer": "ipython3",
   "version": "3.12.4"
  }
 },
 "nbformat": 4,
 "nbformat_minor": 2
}
