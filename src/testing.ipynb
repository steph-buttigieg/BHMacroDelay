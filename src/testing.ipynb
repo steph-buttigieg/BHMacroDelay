{
 "cells": [
  {
   "cell_type": "code",
   "execution_count": 2,
   "metadata": {},
   "outputs": [],
   "source": [
    "import illustris_python.groupcat as gc\n",
    "import matplotlib.pyplot as plt\n",
    "import illustris_python.snapshot as snap\n",
    "import h5py\n",
    "import numpy as np\n",
    "import utils as util"
   ]
  },
  {
   "cell_type": "code",
   "execution_count": 3,
   "metadata": {},
   "outputs": [],
   "source": [
    "# compare the two data sets to find the differences\n",
    "\n",
    "new_host_masses = np.loadtxt('../data/host_masses_135_central.txt')\n",
    "new_bh_masses = np.loadtxt('../data/bh_masses_135_central.txt')\n",
    "particle_ids = np.loadtxt('../data/bh_ids_135_central.txt')\n",
    "\n",
    "old_host_masses = np.loadtxt('/cosma/home/dp012/dc-butt3/BHs_FABLE/BH_mergers/data/host_masses_135.txt')\n",
    "old_bh_masses = np.loadtxt('/cosma/home/dp012/dc-butt3/BHs_FABLE/BH_mergers/data/bh_masses_135.txt')"
   ]
  },
  {
   "cell_type": "code",
   "execution_count": 7,
   "metadata": {},
   "outputs": [
    {
     "name": "stdout",
     "output_type": "stream",
     "text": [
      "New particle IDs not found in the old data (within tolerance):\n",
      "17837\n"
     ]
    }
   ],
   "source": [
    "# Define a tolerance (1% here)\n",
    "tolerance = 0.01\n",
    "\n",
    "# Create arrays of (BH mass, Host mass) pairs\n",
    "old_pairs = np.column_stack((old_bh_masses, old_host_masses))\n",
    "new_pairs = np.column_stack((new_bh_masses, new_host_masses))\n",
    "\n",
    "# Find unmatched new entries\n",
    "unmatched_ids = []\n",
    "for i, (new_bh, new_host) in enumerate(new_pairs):\n",
    "    diffs = np.abs(old_pairs - [new_bh, new_host])\n",
    "    rel_diffs = diffs / np.maximum([new_bh, new_host], 1e-12)  # Avoid div by zero\n",
    "    # Check if there's any sufficiently close match\n",
    "    if not np.any(np.all(rel_diffs < tolerance, axis=1)):\n",
    "        unmatched_ids.append(int(particle_ids[i]))\n",
    "\n",
    "print(\"New particle IDs not found in the old data (within tolerance):\")\n",
    "print(len(unmatched_ids))\n"
   ]
  },
  {
   "cell_type": "code",
   "execution_count": 8,
   "metadata": {},
   "outputs": [
    {
     "data": {
      "text/plain": [
       "61617"
      ]
     },
     "execution_count": 8,
     "metadata": {},
     "output_type": "execute_result"
    }
   ],
   "source": [
    "len(old_bh_masses)"
   ]
  }
 ],
 "metadata": {
  "kernelspec": {
   "display_name": "astroenv",
   "language": "python",
   "name": "python3"
  },
  "language_info": {
   "codemirror_mode": {
    "name": "ipython",
    "version": 3
   },
   "file_extension": ".py",
   "mimetype": "text/x-python",
   "name": "python",
   "nbconvert_exporter": "python",
   "pygments_lexer": "ipython3",
   "version": "3.12.4"
  }
 },
 "nbformat": 4,
 "nbformat_minor": 2
}
